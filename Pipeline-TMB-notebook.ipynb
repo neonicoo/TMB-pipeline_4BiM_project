{
 "cells": [
  {
   "cell_type": "markdown",
   "id": "unlikely-thomson",
   "metadata": {},
   "source": [
    "### Développement d’un pipeline de calcul du TMB\n",
    "\n",
    "#### Projet 4BiM, 2021"
   ]
  },
  {
   "cell_type": "markdown",
   "id": "premier-shepherd",
   "metadata": {},
   "source": [
    "#### Auteurs : Marie Casimir, Loup Petitjean et Nicolas Mendiboure\n",
    "#### Encadrantes Innate-Pharma : Sabrina Carpentier et Luciana Bastista\n",
    "#### Encadrante INSA : Maïwenn Pineau"
   ]
  },
  {
   "cell_type": "code",
   "execution_count": 2,
   "id": "proper-night",
   "metadata": {},
   "outputs": [],
   "source": [
    "import os\n",
    "import pandas as pds\n",
    "from io import StringIO"
   ]
  },
  {
   "cell_type": "code",
   "execution_count": 4,
   "id": "olympic-negative",
   "metadata": {},
   "outputs": [],
   "source": [
    "# Pour charger un fichier vcf :\n",
    "\n",
    "def read_vcf(path):\n",
    "    \n",
    "    with open(path, 'r') as f:\n",
    "        lines = [l for l in f if not l.startswith('##')]\n",
    "        \n",
    "    return pd.read_csv(\n",
    "        io.StringIO(''.join(lines)),\n",
    "        dtype={'#CHROM': str, 'POS': int, \n",
    "               'ID': str, 'REF': str, \n",
    "               'ALT': str, 'QUAL': str, \n",
    "               'FILTER': str, 'INFO': str},\n",
    "        sep='\\t' ).rename(columns={'#CHROM': 'CHROM'})"
   ]
  },
  {
   "cell_type": "code",
   "execution_count": null,
   "id": "formed-debut",
   "metadata": {},
   "outputs": [],
   "source": []
  },
  {
   "cell_type": "code",
   "execution_count": null,
   "id": "naval-metro",
   "metadata": {},
   "outputs": [],
   "source": []
  },
  {
   "cell_type": "code",
   "execution_count": null,
   "id": "executed-discharge",
   "metadata": {},
   "outputs": [],
   "source": []
  },
  {
   "cell_type": "code",
   "execution_count": null,
   "id": "printable-token",
   "metadata": {},
   "outputs": [],
   "source": []
  },
  {
   "cell_type": "code",
   "execution_count": null,
   "id": "organizational-documentation",
   "metadata": {},
   "outputs": [],
   "source": []
  },
  {
   "cell_type": "code",
   "execution_count": null,
   "id": "proprietary-glucose",
   "metadata": {},
   "outputs": [],
   "source": []
  },
  {
   "cell_type": "code",
   "execution_count": null,
   "id": "oriented-montreal",
   "metadata": {},
   "outputs": [],
   "source": []
  }
 ],
 "metadata": {
  "kernelspec": {
   "display_name": "Python 3",
   "language": "python",
   "name": "python3"
  },
  "language_info": {
   "codemirror_mode": {
    "name": "ipython",
    "version": 3
   },
   "file_extension": ".py",
   "mimetype": "text/x-python",
   "name": "python",
   "nbconvert_exporter": "python",
   "pygments_lexer": "ipython3",
   "version": "3.8.8"
  }
 },
 "nbformat": 4,
 "nbformat_minor": 5
}

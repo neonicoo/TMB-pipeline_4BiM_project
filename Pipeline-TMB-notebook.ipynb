{
 "cells": [
  {
   "cell_type": "markdown",
   "id": "unlikely-thomson",
   "metadata": {},
   "source": [
    "### Développement d’un pipeline de calcul du TMB\n",
    "\n",
    "#### Projet 4BiM, 2021"
   ]
  },
  {
   "cell_type": "markdown",
   "id": "premier-shepherd",
   "metadata": {},
   "source": [
    "#### Auteurs : Marie Casimir, Loup Petitjean et Nicolas Mendiboure\n",
    "#### Encadrantes Innate-Pharma : Sabrina Carpentier et Luciana Bastista\n",
    "#### Encadrante INSA : Maïwenn Pineau"
   ]
  },
  {
   "cell_type": "markdown",
   "id": "adopted-description",
   "metadata": {},
   "source": [
    "*Pour install PyVCF : pip install pyvcf*"
   ]
  },
  {
   "cell_type": "code",
   "execution_count": 28,
   "id": "proper-night",
   "metadata": {},
   "outputs": [],
   "source": [
    "from cyvcf2 import VCF\n",
    "import vcf\n",
    "import pandas as pd"
   ]
  },
  {
   "cell_type": "code",
   "execution_count": 40,
   "id": "oriented-montreal",
   "metadata": {},
   "outputs": [
    {
     "data": {
      "text/html": [
       "<div>\n",
       "<style scoped>\n",
       "    .dataframe tbody tr th:only-of-type {\n",
       "        vertical-align: middle;\n",
       "    }\n",
       "\n",
       "    .dataframe tbody tr th {\n",
       "        vertical-align: top;\n",
       "    }\n",
       "\n",
       "    .dataframe thead th {\n",
       "        text-align: right;\n",
       "    }\n",
       "</style>\n",
       "<table border=\"1\" class=\"dataframe\">\n",
       "  <thead>\n",
       "    <tr style=\"text-align: right;\">\n",
       "      <th></th>\n",
       "      <th>REF</th>\n",
       "      <th>ALT</th>\n",
       "    </tr>\n",
       "  </thead>\n",
       "  <tbody>\n",
       "    <tr>\n",
       "      <th>0</th>\n",
       "      <td>C</td>\n",
       "      <td>[T]</td>\n",
       "    </tr>\n",
       "    <tr>\n",
       "      <th>1</th>\n",
       "      <td>G</td>\n",
       "      <td>[A]</td>\n",
       "    </tr>\n",
       "    <tr>\n",
       "      <th>2</th>\n",
       "      <td>A</td>\n",
       "      <td>[T]</td>\n",
       "    </tr>\n",
       "    <tr>\n",
       "      <th>3</th>\n",
       "      <td>C</td>\n",
       "      <td>[G]</td>\n",
       "    </tr>\n",
       "    <tr>\n",
       "      <th>4</th>\n",
       "      <td>T</td>\n",
       "      <td>[C]</td>\n",
       "    </tr>\n",
       "  </tbody>\n",
       "</table>\n",
       "</div>"
      ],
      "text/plain": [
       "  REF  ALT\n",
       "0   C  [T]\n",
       "1   G  [A]\n",
       "2   A  [T]\n",
       "3   C  [G]\n",
       "4   T  [C]"
      ]
     },
     "execution_count": 40,
     "metadata": {},
     "output_type": "execute_result"
    }
   ],
   "source": [
    "## Avec cyvcf2 :\n",
    "\n",
    "ref = []\n",
    "alt = [] \n",
    "for record in VCF(\"./test_radia.vcf\"):\n",
    "    ref.append(record.REF)\n",
    "    alt.append(record.ALT)\n",
    "    \n",
    "df = pd.DataFrame(list(zip(ref, alt)), columns=[\"REF\", \"ALT\"])\n",
    "df.head()"
   ]
  },
  {
   "cell_type": "code",
   "execution_count": 41,
   "id": "accessory-stuff",
   "metadata": {},
   "outputs": [
    {
     "data": {
      "text/html": [
       "<div>\n",
       "<style scoped>\n",
       "    .dataframe tbody tr th:only-of-type {\n",
       "        vertical-align: middle;\n",
       "    }\n",
       "\n",
       "    .dataframe tbody tr th {\n",
       "        vertical-align: top;\n",
       "    }\n",
       "\n",
       "    .dataframe thead th {\n",
       "        text-align: right;\n",
       "    }\n",
       "</style>\n",
       "<table border=\"1\" class=\"dataframe\">\n",
       "  <thead>\n",
       "    <tr style=\"text-align: right;\">\n",
       "      <th></th>\n",
       "      <th>CHROM</th>\n",
       "      <th>POS</th>\n",
       "      <th>REF</th>\n",
       "      <th>ALT</th>\n",
       "      <th>QUAL</th>\n",
       "      <th>INFO</th>\n",
       "    </tr>\n",
       "  </thead>\n",
       "  <tbody>\n",
       "    <tr>\n",
       "      <th>0</th>\n",
       "      <td>1</td>\n",
       "      <td>29651735</td>\n",
       "      <td>C</td>\n",
       "      <td>[T]</td>\n",
       "      <td>0</td>\n",
       "      <td>{'AC': [40], 'AF': [0.1], 'AN': 2, 'BQ': 36, '...</td>\n",
       "    </tr>\n",
       "    <tr>\n",
       "      <th>1</th>\n",
       "      <td>1</td>\n",
       "      <td>144852566</td>\n",
       "      <td>G</td>\n",
       "      <td>[A]</td>\n",
       "      <td>0</td>\n",
       "      <td>{'AC': [4], 'AF': [0.08], 'AN': 2, 'BQ': 37, '...</td>\n",
       "    </tr>\n",
       "    <tr>\n",
       "      <th>2</th>\n",
       "      <td>1</td>\n",
       "      <td>144951880</td>\n",
       "      <td>A</td>\n",
       "      <td>[T]</td>\n",
       "      <td>0</td>\n",
       "      <td>{'AC': [6], 'AF': [0.15], 'AN': 2, 'BQ': 33, '...</td>\n",
       "    </tr>\n",
       "    <tr>\n",
       "      <th>3</th>\n",
       "      <td>1</td>\n",
       "      <td>148342496</td>\n",
       "      <td>C</td>\n",
       "      <td>[G]</td>\n",
       "      <td>0</td>\n",
       "      <td>{'AC': [82], 'AF': [0.07], 'AN': 2, 'BQ': 37, ...</td>\n",
       "    </tr>\n",
       "    <tr>\n",
       "      <th>4</th>\n",
       "      <td>1</td>\n",
       "      <td>149340855</td>\n",
       "      <td>T</td>\n",
       "      <td>[C]</td>\n",
       "      <td>0</td>\n",
       "      <td>{'AC': [4], 'AF': [0.1], 'AN': 2, 'BQ': 32, 'D...</td>\n",
       "    </tr>\n",
       "  </tbody>\n",
       "</table>\n",
       "</div>"
      ],
      "text/plain": [
       "  CHROM        POS REF  ALT  QUAL  \\\n",
       "0     1   29651735   C  [T]     0   \n",
       "1     1  144852566   G  [A]     0   \n",
       "2     1  144951880   A  [T]     0   \n",
       "3     1  148342496   C  [G]     0   \n",
       "4     1  149340855   T  [C]     0   \n",
       "\n",
       "                                                INFO  \n",
       "0  {'AC': [40], 'AF': [0.1], 'AN': 2, 'BQ': 36, '...  \n",
       "1  {'AC': [4], 'AF': [0.08], 'AN': 2, 'BQ': 37, '...  \n",
       "2  {'AC': [6], 'AF': [0.15], 'AN': 2, 'BQ': 33, '...  \n",
       "3  {'AC': [82], 'AF': [0.07], 'AN': 2, 'BQ': 37, ...  \n",
       "4  {'AC': [4], 'AF': [0.1], 'AN': 2, 'BQ': 32, 'D...  "
      ]
     },
     "execution_count": 41,
     "metadata": {},
     "output_type": "execute_result"
    }
   ],
   "source": [
    "# Avec pyvcf :\n",
    "\n",
    "vcf_reader = vcf.Reader(open('./test_radia.vcf', 'r'))\n",
    "\n",
    "CHROM = []\n",
    "POS = []\n",
    "REF = []\n",
    "ALT = []\n",
    "QUAL = []\n",
    "INFO = []\n",
    "\n",
    "for record in vcf_reader:\n",
    "    CHROM.append(record.CHROM)\n",
    "    POS.append(record.POS)\n",
    "    REF.append(record.REF)\n",
    "    ALT.append(record.ALT)\n",
    "    QUAL.append(record.QUAL)\n",
    "    INFO.append(record.INFO)\n",
    "\n",
    "df2 = pd.DataFrame(list(zip(CHROM, POS, REF, ALT, QUAL, INFO)), \n",
    "                  columns=[\"CHROM\", \"POS\", \"REF\", \"ALT\", \"QUAL\", \"INFO\"])\n",
    "df2.head()"
   ]
  },
  {
   "cell_type": "code",
   "execution_count": null,
   "id": "unusual-cleanup",
   "metadata": {},
   "outputs": [],
   "source": []
  },
  {
   "cell_type": "code",
   "execution_count": null,
   "id": "creative-sleeve",
   "metadata": {},
   "outputs": [],
   "source": []
  },
  {
   "cell_type": "code",
   "execution_count": null,
   "id": "outer-wrestling",
   "metadata": {},
   "outputs": [],
   "source": []
  }
 ],
 "metadata": {
  "kernelspec": {
   "display_name": "Python 3",
   "language": "python",
   "name": "python3"
  },
  "language_info": {
   "codemirror_mode": {
    "name": "ipython",
    "version": 3
   },
   "file_extension": ".py",
   "mimetype": "text/x-python",
   "name": "python",
   "nbconvert_exporter": "python",
   "pygments_lexer": "ipython3",
   "version": "3.8.8"
  }
 },
 "nbformat": 4,
 "nbformat_minor": 5
}

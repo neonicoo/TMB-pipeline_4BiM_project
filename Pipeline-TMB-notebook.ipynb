{
 "cells": [
  {
   "cell_type": "markdown",
   "id": "unlikely-thomson",
   "metadata": {},
   "source": [
    "### Développement d’un pipeline de calcul du TMB\n",
    "\n",
    "#### Projet 4BiM, 2021"
   ]
  },
  {
   "cell_type": "markdown",
   "id": "premier-shepherd",
   "metadata": {},
   "source": [
    "#### Auteurs : Marie Casimir, Loup Petitjean et Nicolas Mendiboure\n",
    "#### Encadrantes Innate-Pharma : Sabrina Carpentier et Luciana Bastista\n",
    "#### Encadrante INSA : Maïwenn Pineau"
   ]
  },
  {
   "cell_type": "markdown",
   "id": "rational-situation",
   "metadata": {},
   "source": [
    "*Pour install PyVCF : pip install pyvcf*"
   ]
  },
  {
   "cell_type": "code",
   "execution_count": null,
   "id": "proper-night",
   "metadata": {},
   "outputs": [],
   "source": [
    "import os\n",
    "import vcf\n",
    "import pandas as pds"
   ]
  },
  {
   "cell_type": "code",
   "execution_count": null,
   "id": "olympic-negative",
   "metadata": {},
   "outputs": [],
   "source": [
    "# Pour charger un fichier vcf :\n",
    "\n",
    "def read_vcf(f):\n",
    "    \n",
    "    reader = vcf.Reader(open(f))\n",
    "    df = pds.DataFrame([vars(r) for r in reader])\n",
    "    out = df.merge(pds.DataFrame(df.INFO.tolist()),\n",
    "                   left_index=True, right_index=True)\n",
    "    return out"
   ]
  },
  {
   "cell_type": "code",
   "execution_count": null,
   "id": "formed-debut",
   "metadata": {},
   "outputs": [],
   "source": [
    "my_file = \"./datas.vcf\"\n",
    "read_vcf(my_file).head()"
   ]
  },
  {
   "cell_type": "code",
   "execution_count": null,
   "id": "executed-discharge",
   "metadata": {},
   "outputs": [],
   "source": []
  },
  {
   "cell_type": "code",
   "execution_count": null,
   "id": "printable-token",
   "metadata": {},
   "outputs": [],
   "source": []
  },
  {
   "cell_type": "code",
   "execution_count": null,
   "id": "organizational-documentation",
   "metadata": {},
   "outputs": [],
   "source": []
  },
  {
   "cell_type": "code",
   "execution_count": null,
   "id": "proprietary-glucose",
   "metadata": {},
   "outputs": [],
   "source": []
  },
  {
   "cell_type": "code",
   "execution_count": null,
   "id": "oriented-montreal",
   "metadata": {},
   "outputs": [],
   "source": []
  }
 ],
 "metadata": {
  "kernelspec": {
   "display_name": "Python 3",
   "language": "python",
   "name": "python3"
  },
  "language_info": {
   "codemirror_mode": {
    "name": "ipython",
    "version": 3
   },
   "file_extension": ".py",
   "mimetype": "text/x-python",
   "name": "python",
   "nbconvert_exporter": "python",
   "pygments_lexer": "ipython3",
   "version": "3.8.8"
  }
 },
 "nbformat": 4,
 "nbformat_minor": 5
}

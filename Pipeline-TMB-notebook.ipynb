{
 "cells": [
  {
   "cell_type": "markdown",
   "id": "unlikely-thomson",
   "metadata": {},
   "source": [
    "### Développement d’un pipeline de calcul du TMB\n",
    "\n",
    "#### Projet 4BiM, 2021"
   ]
  },
  {
   "cell_type": "markdown",
   "id": "premier-shepherd",
   "metadata": {},
   "source": [
    "#### Auteurs : Marie Casimir, Loup Petitjean et Nicolas Mendiboure\n",
    "#### Encadrantes Innate-Pharma : Sabrina Carpentier et Luciana Bastista\n",
    "#### Encadrante INSA : Maïwenn Pineau"
   ]
  },
  {
   "cell_type": "markdown",
   "id": "adopted-description",
   "metadata": {},
   "source": [
    "*Pour installer cyvcf2 : pip install cyvcf2*"
   ]
  },
  {
   "cell_type": "code",
   "execution_count": 1,
   "id": "proper-night",
   "metadata": {},
   "outputs": [],
   "source": [
    "import cyvcf2\n",
    "import pandas as pd"
   ]
  },
  {
   "cell_type": "code",
   "execution_count": 2,
   "id": "oriented-montreal",
   "metadata": {},
   "outputs": [],
   "source": [
    "## Importation d'un VCF avec la librairie cyvcf2 :\n",
    "def read_cyvcf(vcf):\n",
    "\n",
    "    #Général :\n",
    "\n",
    "    CHROM = []\n",
    "    POS = []\n",
    "    REF = []\n",
    "    ALT = []\n",
    "    QUAL = []\n",
    "    FILTER = []\n",
    "\n",
    "    # Détails de la section INFO du VCF :\n",
    "\n",
    "    AN = [] #Total number of alleles in called genotypes\n",
    "    AC = [] #Allele count in genotypes, for each ALT allele, in the same order as listed\n",
    "    AF = [] #Allele Frequency in primary data, for each ALT allele, in the same order as listed\n",
    "    BQ = [] #RMS base quality\n",
    "    SB = [] #Strand bias\n",
    "    FA = [] #Overall fraction of reads supporting ALT\n",
    "    MC = [] #Modification base changes at this position\n",
    "    MT = [] #Modification types at this position\n",
    "    NS = [] #Number of Samples With Data\n",
    "    DP = [] #Total Depth across samples\n",
    "    VT = [] #Variant type, can be SNP, INS or DEL\n",
    "    SS = [] #Variant status relative to non-adjacent Normal,0=wildtype,1=germline,2=somatic,3=LOH,4=post-transcriptional modification,5=unknown\n",
    "    ORIGIN = [] #Where the call originated from, the tumor DNA, RNA, or both\n",
    "    SOMATIC = [] #Indicates if record is a somatic mutation\n",
    "    INDEL = [] #Number of indels for all samples\n",
    "    START = [] #Number of reads starting at this position across all samples\n",
    "    STOP = [] #Number of reads stopping at this position across all samples\n",
    "\n",
    "\n",
    "\n",
    "    for record in cyvcf2.VCF(vcf):\n",
    "        CHROM.append(record.CHROM)\n",
    "        POS.append(record.POS)\n",
    "        REF.append(record.REF)\n",
    "        ALT.append(record.ALT)\n",
    "        QUAL.append(record.QUAL)\n",
    "        FILTER.append(record.FILTER)\n",
    "\n",
    "        #record.INFO est un objet de type cyvcf, pour extraire les données il faut utiliser .get()\n",
    "        AN.append(record.INFO.get(\"AN\"))\n",
    "        AC.append(record.INFO.get(\"AC\"))\n",
    "        AF.append(record.INFO.get(\"AF\"))\n",
    "        BQ.append(record.INFO.get(\"BQ\"))\n",
    "        SB.append(record.INFO.get(\"SB\"))\n",
    "        FA.append(record.INFO.get(\"FA\"))\n",
    "        MC.append(record.INFO.get(\"MC\"))\n",
    "        MT.append(record.INFO.get(\"MT\"))\n",
    "        NS.append(record.INFO.get(\"NS\"))\n",
    "        DP.append(record.INFO.get(\"DP\"))\n",
    "        VT.append(record.INFO.get(\"VT\"))\n",
    "        SS.append(record.INFO.get(\"SS\"))\n",
    "        ORIGIN.append(record.INFO.get(\"ORIGIN\"))\n",
    "        SOMATIC.append(record.INFO.get(\"SOMATIC\"))\n",
    "        INDEL.append(record.INFO.get(\"INDEL\"))\n",
    "        START.append(record.INFO.get(\"START\"))\n",
    "        STOP.append(record.INFO.get(\"STOP\"))\n",
    "\n",
    "    df_VCF = pd.DataFrame(list(zip(CHROM, POS, REF, ALT, QUAL, FILTER)), \n",
    "                      columns=[\"CHROM\", \"POS\", \"REF\", \"ALT\", \"QUAL\", \"FILTER\"])\n",
    "\n",
    "    df_VCF[ [\"AN\", \"AC\", \"AF\", \"BQ\", \"SB\", \"FA\", \"MC\", \n",
    "         \"MT\", \"NS\", \"DP\", \"VT\", \"SS\", \"ORIGIN\", \n",
    "         \"SOMATIC\", \"INDEL\", \"START\", \"STOP\"]] = pd.DataFrame(list(zip (AN, AC, AF, BQ, SB, FA, MC,\n",
    "                                                                        MT, NS, DP, VT, SS, ORIGIN, \n",
    "                                                                        SOMATIC, INDEL, START, STOP)))\n",
    "    return (df_VCF)"
   ]
  },
  {
   "cell_type": "code",
   "execution_count": 3,
   "id": "southern-apparatus",
   "metadata": {},
   "outputs": [
    {
     "name": "stdout",
     "output_type": "stream",
     "text": [
      "[list(['T']) list(['A']) list(['T']) list(['G']) list(['C'])\n",
      " list(['A', 'C', 'T'])]\n"
     ]
    }
   ],
   "source": [
    "radia = read_cyvcf(\"./test_radia.vcf\")\n",
    "radia_alt = radia['ALT'].values\n",
    "print(radia_alt[0:6])"
   ]
  },
  {
   "cell_type": "code",
   "execution_count": 4,
   "id": "metropolitan-family",
   "metadata": {},
   "outputs": [
    {
     "name": "stdout",
     "output_type": "stream",
     "text": [
      "87\n"
     ]
    }
   ],
   "source": [
    "basic_radia_TMB = len(radia_alt)\n",
    "print(basic_radia_TMB)"
   ]
  },
  {
   "cell_type": "code",
   "execution_count": 5,
   "id": "unusual-cleanup",
   "metadata": {},
   "outputs": [],
   "source": [
    "import vcf\n",
    "# Avec la librairie pyvcf :\n",
    "\n",
    "def read_pyvcf(file):\n",
    "    reader = vcf.Reader(open(file))\n",
    "    df = pd.DataFrame([vars(r) for r in reader])\n",
    "    out = df.merge(pd.DataFrame(df.INFO.tolist()),\n",
    "                   left_index=True, right_index=True)\n",
    "    return out"
   ]
  },
  {
   "cell_type": "code",
   "execution_count": 7,
   "id": "creative-sleeve",
   "metadata": {},
   "outputs": [
    {
     "name": "stdout",
     "output_type": "stream",
     "text": [
      "[list([G]) list([A]) list([G]) list([T]) list([C]) list([C])]\n"
     ]
    }
   ],
   "source": [
    "mutect = read_pyvcf(\"./test_mutect.vcf\")\n",
    "mutect_alt = mutect['ALT'].values\n",
    "print(mutect_alt[:6])"
   ]
  },
  {
   "cell_type": "code",
   "execution_count": 8,
   "id": "outer-wrestling",
   "metadata": {},
   "outputs": [
    {
     "name": "stdout",
     "output_type": "stream",
     "text": [
      "500\n"
     ]
    }
   ],
   "source": [
    "basic_mutect_TMB = len(mutect_alt)\n",
    "print(basic_mutect_TMB)"
   ]
  },
  {
   "cell_type": "code",
   "execution_count": null,
   "id": "active-humanitarian",
   "metadata": {},
   "outputs": [],
   "source": []
  },
  {
   "cell_type": "code",
   "execution_count": null,
   "id": "authorized-cathedral",
   "metadata": {},
   "outputs": [],
   "source": []
  },
  {
   "cell_type": "code",
   "execution_count": null,
   "id": "hollywood-orlando",
   "metadata": {},
   "outputs": [],
   "source": []
  },
  {
   "cell_type": "code",
   "execution_count": null,
   "id": "continental-marina",
   "metadata": {},
   "outputs": [],
   "source": []
  }
 ],
 "metadata": {
  "kernelspec": {
   "display_name": "Python 3",
   "language": "python",
   "name": "python3"
  },
  "language_info": {
   "codemirror_mode": {
    "name": "ipython",
    "version": 3
   },
   "file_extension": ".py",
   "mimetype": "text/x-python",
   "name": "python",
   "nbconvert_exporter": "python",
   "pygments_lexer": "ipython3",
   "version": "3.8.8"
  }
 },
 "nbformat": 4,
 "nbformat_minor": 5
}
